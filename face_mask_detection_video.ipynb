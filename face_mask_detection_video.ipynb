{
 "cells": [
  {
   "cell_type": "code",
   "execution_count": 2,
   "metadata": {},
   "outputs": [],
   "source": [
    "from keras.applications.mobilenet_v2 import preprocess_input\n",
    "from keras.preprocessing.image import img_to_array\n",
    "from keras.models import load_model\n",
    "import numpy as np\n",
    "import cv2\n",
    "import os"
   ]
  },
  {
   "cell_type": "code",
   "execution_count": 3,
   "metadata": {},
   "outputs": [],
   "source": [
    "prototxtpath=(\"face_detector/deploy.prototxt\")\n",
    "weightspath=(\"face_detector/res10_300x300_ssd_iter_140000.caffemodel\")\n",
    "net=cv2.dnn.readNet(prototxtpath,weightspath)\n",
    "model=load_model(\"model\")"
   ]
  },
  {
   "cell_type": "code",
   "execution_count": 4,
   "metadata": {},
   "outputs": [
    {
     "data": {
      "text/plain": [
       "<function destroyAllWindows>"
      ]
     },
     "execution_count": 4,
     "metadata": {},
     "output_type": "execute_result"
    }
   ],
   "source": [
    "cap=cv2.VideoCapture(0)\n",
    "while True:\n",
    "    ret,image=cap.read()# captures frame and returns boolean value and captured image\n",
    "    if not ret:\n",
    "        continue\n",
    "    orig=image.copy()\n",
    "    (h,w)=image.shape[:2]\n",
    "\n",
    "    blob=cv2.dnn.blobFromImage(image,1.0,(300,300),(104.0,177.0,123.0))\n",
    "    net.setInput(blob)\n",
    "    detections=net.forward()    \n",
    "    \n",
    "    for i in range(0,detections.shape[2]):\n",
    "        confidence=detections[0,0,i,2]\n",
    "        if(confidence > 0.5):\n",
    "            box=detections[0,0,i,3:7]*np.array([w,h,w,h])\n",
    "            (startx,starty,endx,endy)=box.astype(\"int\")\n",
    "            (startx,starty)=(max(0,startx),max(0,starty))\n",
    "            (endx,endy)=(min(w-1,endx),min(h-1,endy))\n",
    "            face=image[starty:endy,startx:endx]\n",
    "            face=cv2.cvtColor(face,cv2.COLOR_BGR2RGB)\n",
    "            face=cv2.resize(face,(224,224))\n",
    "            face=img_to_array(face)\n",
    "            face=preprocess_input(face)\n",
    "            face=np.expand_dims(face,axis=0)\n",
    "\n",
    "            (mask,withoutmask)=model.predict(face)[0]\n",
    "\n",
    "            label=\"Mask\" if mask > withoutmask else \"No Mask\"\n",
    "            color=(0,255,0) if label == \"Mask\" else (0,0,255)\n",
    "            label=\"{}:{:.2f}%\".format(label,max(mask,withoutmask)*100)\n",
    "            cv2.putText(image,label,(startx,starty-10),cv2.FONT_HERSHEY_SIMPLEX,0.45,color,2)\n",
    "            cv2.rectangle(image,(startx,starty),(endx,endy),color,2)\n",
    "    resized_img=cv2.resize(image,(1000,700))\n",
    "    cv2.imshow(\"OUTPUT\",resized_img)\n",
    "    if cv2.waitKey(10) == ord('q'):\n",
    "        break\n",
    "    \n",
    "cap.release()\n",
    "cv2.destroyAllWindows\n",
    "    "
   ]
  },
  {
   "cell_type": "code",
   "execution_count": null,
   "metadata": {},
   "outputs": [],
   "source": []
  }
 ],
 "metadata": {
  "kernelspec": {
   "display_name": "Python 3",
   "language": "python",
   "name": "python3"
  },
  "language_info": {
   "codemirror_mode": {
    "name": "ipython",
    "version": 3
   },
   "file_extension": ".py",
   "mimetype": "text/x-python",
   "name": "python",
   "nbconvert_exporter": "python",
   "pygments_lexer": "ipython3",
   "version": "3.8.3"
  }
 },
 "nbformat": 4,
 "nbformat_minor": 4
}
